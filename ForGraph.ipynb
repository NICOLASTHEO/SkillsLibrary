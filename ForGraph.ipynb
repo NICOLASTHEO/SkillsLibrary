{
  "nbformat": 4,
  "nbformat_minor": 0,
  "metadata": {
    "colab": {
      "name": "ForGraph.ipynb",
      "provenance": [],
      "collapsed_sections": [],
      "authorship_tag": "ABX9TyMf68Br8PGC//5ByY1Py5pX",
      "include_colab_link": true
    },
    "kernelspec": {
      "name": "python3",
      "display_name": "Python 3"
    },
    "language_info": {
      "name": "python"
    }
  },
  "cells": [
    {
      "cell_type": "markdown",
      "metadata": {
        "id": "view-in-github",
        "colab_type": "text"
      },
      "source": [
        "<a href=\"https://colab.research.google.com/github/NICOLASTHEO/SkillsLibrary/blob/main/ForGraph.ipynb\" target=\"_parent\"><img src=\"https://colab.research.google.com/assets/colab-badge.svg\" alt=\"Open In Colab\"/></a>"
      ]
    },
    {
      "cell_type": "code",
      "metadata": {
        "id": "rFlyJVV-ciq1",
        "colab": {
          "base_uri": "https://localhost:8080/"
        },
        "outputId": "ba07ae9a-23bc-4879-e6a3-8bcf4ffc92bc"
      },
      "source": [
        "print('Hello, World!')"
      ],
      "execution_count": null,
      "outputs": [
        {
          "output_type": "stream",
          "text": [
            "Hello, World!\n"
          ],
          "name": "stdout"
        }
      ]
    },
    {
      "cell_type": "markdown",
      "metadata": {
        "id": "9qrWMsg-ANq9"
      },
      "source": [
        "listas: ['...']"
      ]
    },
    {
      "cell_type": "code",
      "metadata": {
        "id": "5DdrmqtO9szH"
      },
      "source": [
        "palavras=['python','java',  'kotlin']"
      ],
      "execution_count": null,
      "outputs": []
    },
    {
      "cell_type": "code",
      "metadata": {
        "colab": {
          "base_uri": "https://localhost:8080/"
        },
        "id": "_DiL13ji92Vk",
        "outputId": "86366bab-58a9-4472-dc1a-e22bccd5f0d5"
      },
      "source": [
        "for i in palavras:\n",
        "  print(i)"
      ],
      "execution_count": null,
      "outputs": [
        {
          "output_type": "stream",
          "text": [
            "python\n",
            "java\n",
            "kotlin\n"
          ],
          "name": "stdout"
        }
      ]
    },
    {
      "cell_type": "code",
      "metadata": {
        "id": "Q56n9FZH-Jnb"
      },
      "source": [
        ""
      ],
      "execution_count": null,
      "outputs": []
    },
    {
      "cell_type": "code",
      "metadata": {
        "colab": {
          "base_uri": "https://localhost:8080/"
        },
        "id": "HuSNNoGs-QD2",
        "outputId": "c61ec5d0-c718-44a7-fd53-3213507be88f"
      },
      "source": [
        "for i in palavras:\n",
        "  caps=i.upper()\n",
        "  print(caps)"
      ],
      "execution_count": null,
      "outputs": [
        {
          "output_type": "stream",
          "text": [
            "PYTHON\n",
            "JAVA\n",
            "KOTLIN\n"
          ],
          "name": "stdout"
        }
      ]
    },
    {
      "cell_type": "code",
      "metadata": {
        "id": "RFh9MQPwG_On"
      },
      "source": [
        "PODE-SE FAZER FUNÇÕES EM LOOPS"
      ],
      "execution_count": null,
      "outputs": []
    },
    {
      "cell_type": "code",
      "metadata": {
        "id": "qjsuxQN9_62Y"
      },
      "source": [
        "def printStuff(Stuff):\n",
        "  for i,f in enumerate(Stuff):\n",
        "    print('album',i,'rating is',f)"
      ],
      "execution_count": null,
      "outputs": []
    },
    {
      "cell_type": "code",
      "metadata": {
        "colab": {
          "base_uri": "https://localhost:8080/"
        },
        "id": "kA9nSfAERU_I",
        "outputId": "73914409-e0b9-4467-d7ee-96cc74f82ddf"
      },
      "source": [
        "for i in range(0,5):\n",
        "  squares[1]='white'\n",
        "  print(squares)"
      ],
      "execution_count": null,
      "outputs": [
        {
          "output_type": "stream",
          "text": [
            "['red', 'white', 'green', 'purple', 'blue']\n",
            "['red', 'white', 'green', 'purple', 'blue']\n",
            "['red', 'white', 'green', 'purple', 'blue']\n",
            "['red', 'white', 'green', 'purple', 'blue']\n",
            "['red', 'white', 'green', 'purple', 'blue']\n"
          ],
          "name": "stdout"
        }
      ]
    },
    {
      "cell_type": "code",
      "metadata": {
        "id": "lrWslBLaAUAB"
      },
      "source": [
        "album_ratings=(10,8.5,9.5)"
      ],
      "execution_count": null,
      "outputs": []
    },
    {
      "cell_type": "code",
      "metadata": {
        "colab": {
          "base_uri": "https://localhost:8080/"
        },
        "id": "GWbb6vV0AcgP",
        "outputId": "af63baa9-130b-4d3a-a55c-5ea04897f8d2"
      },
      "source": [
        "printStuff(album_ratings)"
      ],
      "execution_count": null,
      "outputs": [
        {
          "output_type": "stream",
          "text": [
            "album 0 rating is 10\n",
            "album 1 rating is 8.5\n",
            "album 2 rating is 9.5\n"
          ],
          "name": "stdout"
        }
      ]
    },
    {
      "cell_type": "code",
      "metadata": {
        "colab": {
          "base_uri": "https://localhost:8080/"
        },
        "id": "T8Y6VMOEBmTF",
        "outputId": "0e901e47-4330-4168-edba-a1f53e97a252"
      },
      "source": [
        "def Print(A):\n",
        "  for a in A:\n",
        "    print(a+'1')\n",
        "Print(['a','b','c'])"
      ],
      "execution_count": null,
      "outputs": [
        {
          "output_type": "stream",
          "text": [
            "a1\n",
            "b1\n",
            "c1\n"
          ],
          "name": "stdout"
        }
      ]
    },
    {
      "cell_type": "code",
      "metadata": {
        "id": "4egForfcHFZe"
      },
      "source": [
        "def ArtistNames(*names):\n",
        "  for name in names:\n",
        "    print(name)"
      ],
      "execution_count": null,
      "outputs": []
    },
    {
      "cell_type": "code",
      "metadata": {
        "colab": {
          "base_uri": "https://localhost:8080/"
        },
        "id": "dUHipHGCHSNZ",
        "outputId": "d94a7e99-7f12-4353-de67-2cf7d4250b7d"
      },
      "source": [
        "ArtistNames('Michael Jackson','acdc','pink floid')"
      ],
      "execution_count": null,
      "outputs": [
        {
          "output_type": "stream",
          "text": [
            "Michael Jackson\n",
            "acdc\n",
            "pink floid\n"
          ],
          "name": "stdout"
        }
      ]
    },
    {
      "cell_type": "code",
      "metadata": {
        "colab": {
          "base_uri": "https://localhost:8080/"
        },
        "id": "QO202R5CHmSh",
        "outputId": "09606578-43bc-4384-e4f8-38f38a33d220"
      },
      "source": [
        "ArtistNames('Michael Jackson','acdc')"
      ],
      "execution_count": null,
      "outputs": [
        {
          "output_type": "stream",
          "text": [
            "Michael Jackson\n",
            "acdc\n"
          ],
          "name": "stdout"
        }
      ]
    },
    {
      "cell_type": "markdown",
      "metadata": {
        "id": "jdgNicmSHsiP"
      },
      "source": [
        "# SCOPE-> PARTE DO PROGRAMA ONDE A VARIÁVEL É ACESSÍVEL.   GLOBAL SCOPE"
      ]
    },
    {
      "cell_type": "code",
      "metadata": {
        "id": "HOY7PP5QHzlO"
      },
      "source": [
        "def AddDC(x):\n",
        "  x=x+'DC'\n",
        "  print(x)\n",
        "  return(x)"
      ],
      "execution_count": null,
      "outputs": []
    },
    {
      "cell_type": "code",
      "metadata": {
        "colab": {
          "base_uri": "https://localhost:8080/"
        },
        "id": "im16zq8VXbyt",
        "outputId": "499ca3db-b7c6-4fa3-ebd4-fd4e6e6b56b7"
      },
      "source": [
        "x='ac'\n",
        "z=AddDC(x)"
      ],
      "execution_count": null,
      "outputs": [
        {
          "output_type": "stream",
          "text": [
            "acDC\n"
          ],
          "name": "stdout"
        }
      ]
    },
    {
      "cell_type": "code",
      "metadata": {
        "colab": {
          "base_uri": "https://localhost:8080/"
        },
        "id": "B_N_PFkKX5P6",
        "outputId": "0eaff135-4d4f-4e1b-d01a-15b749385f65"
      },
      "source": [
        "print(z)"
      ],
      "execution_count": null,
      "outputs": [
        {
          "output_type": "stream",
          "text": [
            "acDC\n"
          ],
          "name": "stdout"
        }
      ]
    },
    {
      "cell_type": "code",
      "metadata": {
        "colab": {
          "base_uri": "https://localhost:8080/"
        },
        "id": "zEok8qBKYPoi",
        "outputId": "128801af-6e4d-480e-e5be-3c2ad0172131"
      },
      "source": [
        "print(x)"
      ],
      "execution_count": null,
      "outputs": [
        {
          "output_type": "stream",
          "text": [
            "ac\n"
          ],
          "name": "stdout"
        }
      ]
    },
    {
      "cell_type": "markdown",
      "metadata": {
        "id": "h8aKZcFmI98R"
      },
      "source": [
        "#PODE-SE ACESSAR A VARIÁVEL GLOBAL DE QUALQUER LUGAR. QUANDO O VALOR É ACESSADO E APÓS TERMOS O RETORNO, O SCOPE É DELETADO."
      ]
    },
    {
      "cell_type": "code",
      "metadata": {
        "id": "F6kEJXTZYkIm"
      },
      "source": [
        ""
      ],
      "execution_count": null,
      "outputs": []
    },
    {
      "cell_type": "markdown",
      "metadata": {
        "id": "GhySTKSUYn8V"
      },
      "source": [
        "GLOBAL SCOPE\n"
      ]
    },
    {
      "cell_type": "code",
      "metadata": {
        "id": "m4Qd-hc2Yp_n"
      },
      "source": [
        "def thriller():\n",
        "  date=1882\n",
        "  return date"
      ],
      "execution_count": null,
      "outputs": []
    },
    {
      "cell_type": "code",
      "metadata": {
        "colab": {
          "base_uri": "https://localhost:8080/"
        },
        "id": "mfI0HKE1Y_LK",
        "outputId": "0bb541c9-b3a0-4e03-81f6-9ce0a239219a"
      },
      "source": [
        "thriller()"
      ],
      "execution_count": null,
      "outputs": [
        {
          "output_type": "execute_result",
          "data": {
            "text/plain": [
              "1882"
            ]
          },
          "metadata": {
            "tags": []
          },
          "execution_count": 46
        }
      ]
    },
    {
      "cell_type": "markdown",
      "metadata": {
        "id": "t3W3gdHDZU0v"
      },
      "source": [
        "#o elemento date não existe dentro do GLOBAL SCOPE, PODERIA SER QUALQUER NOME. \n",
        "OU SEJA, PODEMOS ATRIBUIR À DATE FORA DO GLOBAL SCOPE OUTRO VALOR E NÃO HAVERÁ CONFLITOS NO PRINT. e nem DOS DATES EX.:"
      ]
    },
    {
      "cell_type": "code",
      "metadata": {
        "id": "7zkVjBSeZ-Lh"
      },
      "source": [
        "def thriller():\n",
        "  date=1982\n",
        "  return date"
      ],
      "execution_count": null,
      "outputs": []
    },
    {
      "cell_type": "code",
      "metadata": {
        "colab": {
          "base_uri": "https://localhost:8080/"
        },
        "id": "OORjIM5baLF3",
        "outputId": "6f932b40-e154-4301-8eba-93d3f75c12fd"
      },
      "source": [
        "thriller()"
      ],
      "execution_count": null,
      "outputs": [
        {
          "output_type": "execute_result",
          "data": {
            "text/plain": [
              "1982"
            ]
          },
          "metadata": {
            "tags": []
          },
          "execution_count": 48
        }
      ]
    },
    {
      "cell_type": "code",
      "metadata": {
        "id": "kI4ZldyTaOLf"
      },
      "source": [
        "date=2000"
      ],
      "execution_count": null,
      "outputs": []
    },
    {
      "cell_type": "code",
      "metadata": {
        "colab": {
          "base_uri": "https://localhost:8080/"
        },
        "id": "3A5rMKgAaT3z",
        "outputId": "e1cfd236-575e-4e63-cfbf-5a94af520d3c"
      },
      "source": [
        "print(date)"
      ],
      "execution_count": null,
      "outputs": [
        {
          "output_type": "stream",
          "text": [
            "2000\n"
          ],
          "name": "stdout"
        }
      ]
    },
    {
      "cell_type": "code",
      "metadata": {
        "colab": {
          "base_uri": "https://localhost:8080/"
        },
        "id": "iAA4wGzBaWQb",
        "outputId": "cf513e06-2987-46b2-a21a-d0d33ee3d4ac"
      },
      "source": [
        "thriller()"
      ],
      "execution_count": null,
      "outputs": [
        {
          "output_type": "execute_result",
          "data": {
            "text/plain": [
              "1982"
            ]
          },
          "metadata": {
            "tags": []
          },
          "execution_count": 51
        }
      ]
    },
    {
      "cell_type": "code",
      "metadata": {
        "colab": {
          "base_uri": "https://localhost:8080/"
        },
        "id": "3LGO6Zk0avD8",
        "outputId": "a335bdec-4c2c-452f-8395-368155b0ce00"
      },
      "source": [
        "print(thriller())"
      ],
      "execution_count": null,
      "outputs": [
        {
          "output_type": "stream",
          "text": [
            "1982\n"
          ],
          "name": "stdout"
        }
      ]
    },
    {
      "cell_type": "code",
      "metadata": {
        "id": "eJSJkG1QaYUI"
      },
      "source": [
        ""
      ],
      "execution_count": null,
      "outputs": []
    },
    {
      "cell_type": "markdown",
      "metadata": {
        "id": "FF5Jo8zcahJN"
      },
      "source": [
        ""
      ]
    },
    {
      "cell_type": "code",
      "metadata": {
        "id": "88QIvpvzbXLU"
      },
      "source": [
        "def acdc(y):\n",
        "  print(rating)\n",
        "  return (rating+y)"
      ],
      "execution_count": null,
      "outputs": []
    },
    {
      "cell_type": "code",
      "metadata": {
        "id": "R_1aLleibuIO"
      },
      "source": [
        "rating=9"
      ],
      "execution_count": null,
      "outputs": []
    },
    {
      "cell_type": "markdown",
      "metadata": {
        "id": "BXkx4IxkcvVk"
      },
      "source": [
        "##PYTHON irá verificar que não há valor para y em acdc no local scope e retornará com  valor somente de rating, que foi atribuidp no global scope, não haverá erro."
      ]
    },
    {
      "cell_type": "code",
      "metadata": {
        "colab": {
          "base_uri": "https://localhost:8080/"
        },
        "id": "1GkPxdBvbyxB",
        "outputId": "8713b7b9-583d-4146-b913-97bd9792f4ac"
      },
      "source": [
        "Z=acdc(1)"
      ],
      "execution_count": null,
      "outputs": [
        {
          "output_type": "stream",
          "text": [
            "9\n"
          ],
          "name": "stdout"
        }
      ]
    },
    {
      "cell_type": "code",
      "metadata": {
        "colab": {
          "base_uri": "https://localhost:8080/"
        },
        "id": "hFSsDyx6d8pI",
        "outputId": "ed29554b-d148-4e82-aa52-f2711516aea8"
      },
      "source": [
        "print(Z)"
      ],
      "execution_count": null,
      "outputs": [
        {
          "output_type": "stream",
          "text": [
            "10\n"
          ],
          "name": "stdout"
        }
      ]
    },
    {
      "cell_type": "code",
      "metadata": {
        "colab": {
          "base_uri": "https://localhost:8080/"
        },
        "id": "gk7J1xMOb87o",
        "outputId": "8a497802-3aca-4020-a0e9-635cdb4bc111"
      },
      "source": [
        "print(rating)"
      ],
      "execution_count": null,
      "outputs": [
        {
          "output_type": "stream",
          "text": [
            "9\n"
          ],
          "name": "stdout"
        }
      ]
    },
    {
      "cell_type": "code",
      "metadata": {
        "colab": {
          "base_uri": "https://localhost:8080/"
        },
        "id": "3IT11b5RcCfv",
        "outputId": "2d709c82-e90a-444b-a7d9-29e245230dad"
      },
      "source": [
        "acdc(10)"
      ],
      "execution_count": null,
      "outputs": [
        {
          "output_type": "stream",
          "text": [
            "9\n"
          ],
          "name": "stdout"
        },
        {
          "output_type": "execute_result",
          "data": {
            "text/plain": [
              "19"
            ]
          },
          "metadata": {
            "tags": []
          },
          "execution_count": 65
        }
      ]
    },
    {
      "cell_type": "markdown",
      "metadata": {
        "id": "Y8vwvd6eeOU3"
      },
      "source": [
        ""
      ]
    },
    {
      "cell_type": "markdown",
      "metadata": {
        "id": "0AYAY2EKeOjU"
      },
      "source": [
        ""
      ]
    },
    {
      "cell_type": "markdown",
      "metadata": {
        "id": "aHVv3nu4fO0-"
      },
      "source": [
        "###a variável GLOBAL fica estática dentro da DEFINIÇÃO SEMPRE RETORNANDO OS MESMOS VALORES, POR MAIS QUE FORA DA DEFINIÇÃO DEPOIS ATRIBUIMOS OUTROS VALORES A ELEMENTOS IGUAIS AOS INTERNOS DA GLOBAL SCOPE.. ex.:"
      ]
    },
    {
      "cell_type": "code",
      "metadata": {
        "id": "9JVMLU30eP5e"
      },
      "source": [
        "def pink_floyd():\n",
        "  global claimedsales\n",
        "  claimedsales='45 million'\n",
        "  return claimedsales"
      ],
      "execution_count": null,
      "outputs": []
    },
    {
      "cell_type": "code",
      "metadata": {
        "colab": {
          "base_uri": "https://localhost:8080/",
          "height": 35
        },
        "id": "Q4NJl7Y3cLnI",
        "outputId": "3f9a27bb-d8a0-4eb7-f521-de3f61df621c"
      },
      "source": [
        "pink_floyd()"
      ],
      "execution_count": null,
      "outputs": [
        {
          "output_type": "execute_result",
          "data": {
            "application/vnd.google.colaboratory.intrinsic+json": {
              "type": "string"
            },
            "text/plain": [
              "'45 million'"
            ]
          },
          "metadata": {
            "tags": []
          },
          "execution_count": 67
        }
      ]
    },
    {
      "cell_type": "code",
      "metadata": {
        "colab": {
          "base_uri": "https://localhost:8080/"
        },
        "id": "dkRv_0EgepCG",
        "outputId": "fcba8fa8-843d-4d0f-ac64-d6920c07d273"
      },
      "source": [
        "print(claimedsales)"
      ],
      "execution_count": null,
      "outputs": [
        {
          "output_type": "stream",
          "text": [
            "45 million\n"
          ],
          "name": "stdout"
        }
      ]
    },
    {
      "cell_type": "code",
      "metadata": {
        "id": "zHW2BD1LeuER"
      },
      "source": [
        "claimedsales='teste'"
      ],
      "execution_count": null,
      "outputs": []
    },
    {
      "cell_type": "code",
      "metadata": {
        "colab": {
          "base_uri": "https://localhost:8080/"
        },
        "id": "WH6BfYeXfAQ6",
        "outputId": "b7af859a-a666-442d-c584-03a1c3dbbfc2"
      },
      "source": [
        "print(claimedsales)"
      ],
      "execution_count": null,
      "outputs": [
        {
          "output_type": "stream",
          "text": [
            "teste\n"
          ],
          "name": "stdout"
        }
      ]
    },
    {
      "cell_type": "code",
      "metadata": {
        "colab": {
          "base_uri": "https://localhost:8080/",
          "height": 35
        },
        "id": "3ADxIQkSfGT1",
        "outputId": "9853e106-dbeb-4d21-87d5-472cf3be2b91"
      },
      "source": [
        "pink_floyd()"
      ],
      "execution_count": null,
      "outputs": [
        {
          "output_type": "execute_result",
          "data": {
            "application/vnd.google.colaboratory.intrinsic+json": {
              "type": "string"
            },
            "text/plain": [
              "'45 million'"
            ]
          },
          "metadata": {
            "tags": []
          },
          "execution_count": 71
        }
      ]
    },
    {
      "cell_type": "code",
      "metadata": {
        "id": "P2-Sr8U1fIJh"
      },
      "source": [
        ""
      ],
      "execution_count": null,
      "outputs": []
    },
    {
      "cell_type": "markdown",
      "metadata": {
        "id": "-WQAy6YffNZU"
      },
      "source": [
        ""
      ]
    },
    {
      "cell_type": "code",
      "metadata": {
        "id": "F4o6ZUKugdu5"
      },
      "source": [
        "def add(x):\n",
        "  return(x+x)"
      ],
      "execution_count": null,
      "outputs": []
    },
    {
      "cell_type": "code",
      "metadata": {
        "colab": {
          "base_uri": "https://localhost:8080/",
          "height": 35
        },
        "id": "GFuiHeTUgmNj",
        "outputId": "0255ba9c-b615-453b-9654-dff077fbc2f4"
      },
      "source": [
        "add('1')"
      ],
      "execution_count": null,
      "outputs": [
        {
          "output_type": "execute_result",
          "data": {
            "application/vnd.google.colaboratory.intrinsic+json": {
              "type": "string"
            },
            "text/plain": [
              "'11'"
            ]
          },
          "metadata": {
            "tags": []
          },
          "execution_count": 80
        }
      ]
    },
    {
      "cell_type": "markdown",
      "metadata": {
        "id": "tAmMCgkLrULY"
      },
      "source": [
        "## CRIANDO GRÁFICOS"
      ]
    },
    {
      "cell_type": "code",
      "metadata": {
        "id": "lEXj3oe9goun"
      },
      "source": [
        "class circle(object):\n",
        "  def _init_(self, radius, color):\n",
        "    self.radius=radius;\n",
        "    self.color=color;"
      ],
      "execution_count": null,
      "outputs": []
    },
    {
      "cell_type": "code",
      "metadata": {
        "id": "5tZ5AUokpxXb"
      },
      "source": [
        "class circle(object):\n",
        "  def _init_(self, radius, color):\n",
        "    self.radius=10;\n",
        "    self.color='red';"
      ],
      "execution_count": null,
      "outputs": []
    },
    {
      "cell_type": "code",
      "metadata": {
        "id": "5trQwOS0ps3j"
      },
      "source": [
        ""
      ],
      "execution_count": null,
      "outputs": []
    }
  ]
}